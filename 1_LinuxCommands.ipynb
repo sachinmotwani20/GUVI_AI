{
  "nbformat": 4,
  "nbformat_minor": 0,
  "metadata": {
    "colab": {
      "name": "1.LinuxCommands.ipynb",
      "provenance": [],
      "toc_visible": true,
      "authorship_tag": "ABX9TyPMQNVPzq4LWjFCz9/phaCX",
      "include_colab_link": true
    },
    "kernelspec": {
      "name": "python3",
      "display_name": "Python 3"
    }
  },
  "cells": [
    {
      "cell_type": "markdown",
      "metadata": {
        "id": "view-in-github",
        "colab_type": "text"
      },
      "source": [
        "<a href=\"https://colab.research.google.com/github/sachinmotwani20/GUVI_AI/blob/master/1_LinuxCommands.ipynb\" target=\"_parent\"><img src=\"https://colab.research.google.com/assets/colab-badge.svg\" alt=\"Open In Colab\"/></a>"
      ]
    },
    {
      "cell_type": "markdown",
      "metadata": {
        "id": "s2l4qe9txYA0",
        "colab_type": "text"
      },
      "source": [
        "# Section 1\n",
        "Simple Linux Commands\n"
      ]
    },
    {
      "cell_type": "code",
      "metadata": {
        "id": "R497qvG877J0",
        "colab_type": "code",
        "colab": {
          "base_uri": "https://localhost:8080/",
          "height": 34
        },
        "outputId": "a2c669ca-0481-413a-f6e7-031bf2e789fe"
      },
      "source": [
        "#Display contents of the current File\n",
        "!ls"
      ],
      "execution_count": 4,
      "outputs": [
        {
          "output_type": "stream",
          "text": [
            "sample_data  test.csv\n"
          ],
          "name": "stdout"
        }
      ]
    },
    {
      "cell_type": "code",
      "metadata": {
        "id": "yPHHKmSpvUtn",
        "colab_type": "code",
        "colab": {}
      },
      "source": [
        "#Kind of the processor we are running on \n",
        "!cat /proc/cpuinfo"
      ],
      "execution_count": 0,
      "outputs": []
    },
    {
      "cell_type": "code",
      "metadata": {
        "id": "ZTwdI4SBvxRK",
        "colab_type": "code",
        "colab": {}
      },
      "source": [
        "#Amount of RAM\n",
        "!cat /proc/meminfo"
      ],
      "execution_count": 0,
      "outputs": []
    },
    {
      "cell_type": "markdown",
      "metadata": {
        "id": "qin_mzs5w8cK",
        "colab_type": "text"
      },
      "source": [
        "This is a text Cell, where I can write in **bold**\n",
        "I can also write in $\\LaTeX$\n"
      ]
    },
    {
      "cell_type": "markdown",
      "metadata": {
        "id": "52NipMhOyGSO",
        "colab_type": "text"
      },
      "source": [
        "#Section 2 \n",
        "Moving on to Python"
      ]
    },
    {
      "cell_type": "code",
      "metadata": {
        "id": "gOlB9BYByRr4",
        "colab_type": "code",
        "colab": {}
      },
      "source": [
        ""
      ],
      "execution_count": 0,
      "outputs": []
    }
  ]
}