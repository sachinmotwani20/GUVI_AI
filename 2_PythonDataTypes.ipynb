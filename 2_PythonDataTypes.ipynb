{
  "nbformat": 4,
  "nbformat_minor": 0,
  "metadata": {
    "colab": {
      "name": "2.PythonDataTypes",
      "provenance": [],
      "toc_visible": true,
      "authorship_tag": "ABX9TyMwGt/pkD9fWXmV5yWM2++y",
      "include_colab_link": true
    },
    "kernelspec": {
      "name": "python3",
      "display_name": "Python 3"
    }
  },
  "cells": [
    {
      "cell_type": "markdown",
      "metadata": {
        "id": "view-in-github",
        "colab_type": "text"
      },
      "source": [
        "<a href=\"https://colab.research.google.com/github/sachinmotwani20/GUVI_AI/blob/master/2_PythonDataTypes.ipynb\" target=\"_parent\"><img src=\"https://colab.research.google.com/assets/colab-badge.svg\" alt=\"Open In Colab\"/></a>"
      ]
    },
    {
      "cell_type": "markdown",
      "metadata": {
        "id": "_QJscoWg_7ci",
        "colab_type": "text"
      },
      "source": [
        ""
      ]
    },
    {
      "cell_type": "markdown",
      "metadata": {
        "id": "t8_cid2z_9JV",
        "colab_type": "text"
      },
      "source": [
        "# Simple Data Types & Operators"
      ]
    },
    {
      "cell_type": "code",
      "metadata": {
        "id": "12rp2q655U43",
        "colab_type": "code",
        "colab": {}
      },
      "source": [
        "name = 'iPhone 5s'"
      ],
      "execution_count": 0,
      "outputs": []
    },
    {
      "cell_type": "code",
      "metadata": {
        "id": "saQxvbcr5t1c",
        "colab_type": "code",
        "outputId": "47b3c923-50e7-461e-a9c4-241e13754c0f",
        "colab": {
          "base_uri": "https://localhost:8080/",
          "height": 34
        }
      },
      "source": [
        "type(name)"
      ],
      "execution_count": 0,
      "outputs": [
        {
          "output_type": "execute_result",
          "data": {
            "text/plain": [
              "str"
            ]
          },
          "metadata": {
            "tags": []
          },
          "execution_count": 4
        }
      ]
    },
    {
      "cell_type": "code",
      "metadata": {
        "id": "8sp2g4sH5xXn",
        "colab_type": "code",
        "outputId": "21e2e2fc-6d62-40f9-db22-50c8c6a0ba8d",
        "colab": {
          "base_uri": "https://localhost:8080/",
          "height": 34
        }
      },
      "source": [
        "#No exclusive datatype declaration\n",
        "print(name)"
      ],
      "execution_count": 0,
      "outputs": [
        {
          "output_type": "stream",
          "text": [
            "iPhone 5s\n"
          ],
          "name": "stdout"
        }
      ]
    },
    {
      "cell_type": "code",
      "metadata": {
        "id": "SZzqKzlx5_xr",
        "colab_type": "code",
        "outputId": "ca4c2ba8-92eb-4247-9b76-631bc7acbe7e",
        "colab": {
          "base_uri": "https://localhost:8080/",
          "height": 34
        }
      },
      "source": [
        "screen_size = 4.3\n",
        "type(screen_size)"
      ],
      "execution_count": 0,
      "outputs": [
        {
          "output_type": "execute_result",
          "data": {
            "text/plain": [
              "float"
            ]
          },
          "metadata": {
            "tags": []
          },
          "execution_count": 6
        }
      ]
    },
    {
      "cell_type": "code",
      "metadata": {
        "id": "AnsIIklt6Gi-",
        "colab_type": "code",
        "colab": {}
      },
      "source": [
        "no_of_speakers = 1"
      ],
      "execution_count": 0,
      "outputs": []
    },
    {
      "cell_type": "code",
      "metadata": {
        "id": "Tb8BsNhn6Nqd",
        "colab_type": "code",
        "outputId": "1a70f7c5-c23b-4dc2-81a7-cfb0303ca242",
        "colab": {
          "base_uri": "https://localhost:8080/",
          "height": 34
        }
      },
      "source": [
        "type(no_of_speakers )"
      ],
      "execution_count": 0,
      "outputs": [
        {
          "output_type": "execute_result",
          "data": {
            "text/plain": [
              "int"
            ]
          },
          "metadata": {
            "tags": []
          },
          "execution_count": 8
        }
      ]
    },
    {
      "cell_type": "code",
      "metadata": {
        "id": "CVYvja516Xx8",
        "colab_type": "code",
        "outputId": "1ad4ab34-c0da-4a2d-dbcd-8218c4a16354",
        "colab": {
          "base_uri": "https://localhost:8080/",
          "height": 34
        }
      },
      "source": [
        "print('I just bought an' + name)"
      ],
      "execution_count": 0,
      "outputs": [
        {
          "output_type": "stream",
          "text": [
            "I just bought aniPhone 5s\n"
          ],
          "name": "stdout"
        }
      ]
    },
    {
      "cell_type": "code",
      "metadata": {
        "id": "iSiIMuPw6ePx",
        "colab_type": "code",
        "outputId": "93f68b29-58f7-4572-cdc0-550fcc7f1a82",
        "colab": {
          "base_uri": "https://localhost:8080/",
          "height": 34
        }
      },
      "source": [
        "a=3\n",
        "b=2\n",
        "print(a*b, a-b, a/b , a**b, a//b)# ** : Power ; // : Integer Division"
      ],
      "execution_count": 0,
      "outputs": [
        {
          "output_type": "stream",
          "text": [
            "6 1 1.5 9 1\n"
          ],
          "name": "stdout"
        }
      ]
    },
    {
      "cell_type": "code",
      "metadata": {
        "id": "T_CDFa8H6oK6",
        "colab_type": "code",
        "outputId": "7df86ee6-f041-4495-b0ba-528fba5e9806",
        "colab": {
          "base_uri": "https://localhost:8080/",
          "height": 34
        }
      },
      "source": [
        "is_android = False\n",
        "type(is_android)"
      ],
      "execution_count": 0,
      "outputs": [
        {
          "output_type": "execute_result",
          "data": {
            "text/plain": [
              "bool"
            ]
          },
          "metadata": {
            "tags": []
          },
          "execution_count": 12
        }
      ]
    },
    {
      "cell_type": "markdown",
      "metadata": {
        "id": "PQiNpsHHAMwx",
        "colab_type": "text"
      },
      "source": [
        "# Code Blocks - If, For, While"
      ]
    },
    {
      "cell_type": "code",
      "metadata": {
        "id": "bqmVFK9g7HLu",
        "colab_type": "code",
        "outputId": "4e051ff5-4c43-4289-c244-b76deb3c6d41",
        "colab": {
          "base_uri": "https://localhost:8080/",
          "height": 34
        }
      },
      "source": [
        "if is_android == True:\n",
        "  print(name+ 'supports Android')\n",
        "  print('Continuing to print inside the if block')\n",
        "print ('Printing outside the if block')"
      ],
      "execution_count": 0,
      "outputs": [
        {
          "output_type": "stream",
          "text": [
            "Printing outside the if block\n"
          ],
          "name": "stdout"
        }
      ]
    },
    {
      "cell_type": "code",
      "metadata": {
        "id": "T1VQuznb7f_O",
        "colab_type": "code",
        "outputId": "186d9f68-2975-4008-e5ce-6bde9f1fc69f",
        "colab": {
          "base_uri": "https://localhost:8080/",
          "height": 104
        }
      },
      "source": [
        "for i in range(5):\n",
        "  print(i,i**2)"
      ],
      "execution_count": 0,
      "outputs": [
        {
          "output_type": "stream",
          "text": [
            "0 0\n",
            "1 1\n",
            "2 4\n",
            "3 9\n",
            "4 16\n"
          ],
          "name": "stdout"
        }
      ]
    },
    {
      "cell_type": "code",
      "metadata": {
        "id": "mYYkPRBS7njC",
        "colab_type": "code",
        "colab": {}
      },
      "source": [
        "#gives range help\n",
        "range?"
      ],
      "execution_count": 0,
      "outputs": []
    },
    {
      "cell_type": "code",
      "metadata": {
        "id": "BTZncVDk7sPF",
        "colab_type": "code",
        "outputId": "972c0071-cc45-4e6b-f6cc-d91745636ef8",
        "colab": {
          "base_uri": "https://localhost:8080/",
          "height": 104
        }
      },
      "source": [
        "i=0;\n",
        "while i<5:\n",
        "  print(i, i**2)\n",
        "  i+= 1 #equivalent to i = i+1 (increment by 1)"
      ],
      "execution_count": 0,
      "outputs": [
        {
          "output_type": "stream",
          "text": [
            "0 0\n",
            "1 1\n",
            "2 4\n",
            "3 9\n",
            "4 16\n"
          ],
          "name": "stdout"
        }
      ]
    },
    {
      "cell_type": "markdown",
      "metadata": {
        "id": "btjlqvRQAcaW",
        "colab_type": "text"
      },
      "source": [
        "# Functions"
      ]
    },
    {
      "cell_type": "code",
      "metadata": {
        "id": "7sCBQDEk8I3d",
        "colab_type": "code",
        "colab": {}
      },
      "source": [
        "#Functions \n",
        "def print_square (stop_val):\n",
        "  for i in range (stop_val):\n",
        "    print (i, i**2)\n",
        "    "
      ],
      "execution_count": 0,
      "outputs": []
    },
    {
      "cell_type": "code",
      "metadata": {
        "id": "cO-Aar2M8cRZ",
        "colab_type": "code",
        "outputId": "1a5d904c-e314-4df6-c4f3-ec00eea02c49",
        "colab": {
          "base_uri": "https://localhost:8080/",
          "height": 104
        }
      },
      "source": [
        "print_square(5)"
      ],
      "execution_count": 0,
      "outputs": [
        {
          "output_type": "stream",
          "text": [
            "0 0\n",
            "1 1\n",
            "2 4\n",
            "3 9\n",
            "4 16\n"
          ],
          "name": "stdout"
        }
      ]
    },
    {
      "cell_type": "code",
      "metadata": {
        "id": "nZGamahH8faS",
        "colab_type": "code",
        "colab": {}
      },
      "source": [
        "# Function that returns a value\n",
        "def sum_of_squares(stop_val):\n",
        "  sum_ = 0\n",
        "  for i in range(stop_val):\n",
        "    sum_ += i**2\n",
        "  return sum_"
      ],
      "execution_count": 0,
      "outputs": []
    },
    {
      "cell_type": "code",
      "metadata": {
        "id": "Cm38dght8zZh",
        "colab_type": "code",
        "outputId": "5e26d72f-8f0e-458c-a9bd-3e33f1f1fe0c",
        "colab": {
          "base_uri": "https://localhost:8080/",
          "height": 34
        }
      },
      "source": [
        "sum_of_squares(5)"
      ],
      "execution_count": 0,
      "outputs": [
        {
          "output_type": "execute_result",
          "data": {
            "text/plain": [
              "30"
            ]
          },
          "metadata": {
            "tags": []
          },
          "execution_count": 28
        }
      ]
    },
    {
      "cell_type": "code",
      "metadata": {
        "id": "wsDhoUeP83GQ",
        "colab_type": "code",
        "colab": {}
      },
      "source": [
        "#Creating a documentation of a function \n",
        "def print_square_with_startval(stop_val, start_val = 0):\n",
        "  ''' Prints the squares of numbers starting from start_val (inclusive) and ending with stop_val (exclusive)'''\n",
        "  for i in range(start_val, stop_val):\n",
        "    print (i, i**2)"
      ],
      "execution_count": 0,
      "outputs": []
    },
    {
      "cell_type": "code",
      "metadata": {
        "id": "_MWQ8CZn-0WC",
        "colab_type": "code",
        "outputId": "0cc9d06f-3636-4fed-94d4-88c2b59e793d",
        "colab": {
          "base_uri": "https://localhost:8080/",
          "height": 69
        }
      },
      "source": [
        "print_square_with_startval(5,2)"
      ],
      "execution_count": 0,
      "outputs": [
        {
          "output_type": "stream",
          "text": [
            "2 4\n",
            "3 9\n",
            "4 16\n"
          ],
          "name": "stdout"
        }
      ]
    },
    {
      "cell_type": "code",
      "metadata": {
        "id": "iTtsZ8R7-4vQ",
        "colab_type": "code",
        "outputId": "72b6fd5b-4cfd-42ca-99a0-fc01373104a8",
        "colab": {
          "base_uri": "https://localhost:8080/",
          "height": 124
        }
      },
      "source": [
        "#Advantage of Documentation\n",
        "help(print_square_with_startval)\n",
        "# OR Simply\n",
        "print_square_with_startval?"
      ],
      "execution_count": 0,
      "outputs": [
        {
          "output_type": "stream",
          "text": [
            "Help on function print_square_with_startval in module __main__:\n",
            "\n",
            "print_square_with_startval(stop_val, start_val=0)\n",
            "    Prints the squares of numbers starting from start_val (inclusive) and ending with stop_val (exclusive)\n",
            "\n"
          ],
          "name": "stdout"
        }
      ]
    },
    {
      "cell_type": "markdown",
      "metadata": {
        "id": "BS5jN9ACAjKx",
        "colab_type": "text"
      },
      "source": [
        "# Lists"
      ]
    },
    {
      "cell_type": "code",
      "metadata": {
        "id": "XaTkafdC_LST",
        "colab_type": "code",
        "colab": {}
      },
      "source": [
        "my_phone = [name, is_android, screen_size]"
      ],
      "execution_count": 0,
      "outputs": []
    },
    {
      "cell_type": "code",
      "metadata": {
        "id": "Ul5GAQhCAsJo",
        "colab_type": "code",
        "outputId": "413d7533-bd02-4431-e015-36d6827ef459",
        "colab": {
          "base_uri": "https://localhost:8080/",
          "height": 34
        }
      },
      "source": [
        "type(my_phone)"
      ],
      "execution_count": 0,
      "outputs": [
        {
          "output_type": "execute_result",
          "data": {
            "text/plain": [
              "list"
            ]
          },
          "metadata": {
            "tags": []
          },
          "execution_count": 35
        }
      ]
    },
    {
      "cell_type": "code",
      "metadata": {
        "id": "DC0oDKkAAvoS",
        "colab_type": "code",
        "outputId": "d8fe2fc0-3068-480b-b6fa-f320947389ae",
        "colab": {
          "base_uri": "https://localhost:8080/",
          "height": 34
        }
      },
      "source": [
        "print (my_phone)"
      ],
      "execution_count": 0,
      "outputs": [
        {
          "output_type": "stream",
          "text": [
            "['iPhone 5s', False, 4.3]\n"
          ],
          "name": "stdout"
        }
      ]
    },
    {
      "cell_type": "code",
      "metadata": {
        "id": "S0xvWCGCA_At",
        "colab_type": "code",
        "outputId": "34355fe3-f33d-44fc-c847-48ecd4d01e93",
        "colab": {
          "base_uri": "https://localhost:8080/",
          "height": 34
        }
      },
      "source": [
        "#Since it is an ordered list, We may use indices to refer to individual elements in the list\n",
        "my_phone[0]"
      ],
      "execution_count": 0,
      "outputs": [
        {
          "output_type": "execute_result",
          "data": {
            "text/plain": [
              "'iPhone 5s'"
            ]
          },
          "metadata": {
            "tags": []
          },
          "execution_count": 37
        }
      ]
    },
    {
      "cell_type": "code",
      "metadata": {
        "id": "OBN-UfP0BCgD",
        "colab_type": "code",
        "outputId": "72fe3517-f6a7-491a-8bef-ae3954402ec8",
        "colab": {
          "base_uri": "https://localhost:8080/",
          "height": 34
        }
      },
      "source": [
        "type(my_phone[0])"
      ],
      "execution_count": 0,
      "outputs": [
        {
          "output_type": "execute_result",
          "data": {
            "text/plain": [
              "str"
            ]
          },
          "metadata": {
            "tags": []
          },
          "execution_count": 38
        }
      ]
    },
    {
      "cell_type": "code",
      "metadata": {
        "id": "DEXzpol1BQ2v",
        "colab_type": "code",
        "outputId": "435ea16e-5c78-428d-9959-4dff8d08bf33",
        "colab": {
          "base_uri": "https://localhost:8080/",
          "height": 34
        }
      },
      "source": [
        "#inclusive of starting point, exclusive of ending point\n",
        "my_phone[0:2]"
      ],
      "execution_count": 0,
      "outputs": [
        {
          "output_type": "execute_result",
          "data": {
            "text/plain": [
              "['iPhone 5s', False]"
            ]
          },
          "metadata": {
            "tags": []
          },
          "execution_count": 39
        }
      ]
    },
    {
      "cell_type": "code",
      "metadata": {
        "id": "Y4HZM3GjBWAF",
        "colab_type": "code",
        "colab": {}
      },
      "source": [
        "# You may change individual values of the list\n",
        "my_phone[2] = 4"
      ],
      "execution_count": 0,
      "outputs": []
    },
    {
      "cell_type": "code",
      "metadata": {
        "id": "U_3fcMRXBxXU",
        "colab_type": "code",
        "outputId": "39ed299e-fa76-4980-a912-86fa6c336809",
        "colab": {
          "base_uri": "https://localhost:8080/",
          "height": 34
        }
      },
      "source": [
        "print(my_phone)"
      ],
      "execution_count": 0,
      "outputs": [
        {
          "output_type": "stream",
          "text": [
            "['iPhone 5s', False, 4]\n"
          ],
          "name": "stdout"
        }
      ]
    },
    {
      "cell_type": "code",
      "metadata": {
        "id": "B6Q8oo3FB0QR",
        "colab_type": "code",
        "colab": {}
      },
      "source": [
        "#There is a difference between deep copying & shallow copying \n",
        "#shallow Copying: Changes done to the main list will be reflected in the new list\n",
        "my_dads_phone = my_phone\n",
        "#this will just create a refernce to the list and not deeply copy elements; hence any changes in 'my_phone' will be reflected in my dad's phone "
      ],
      "execution_count": 0,
      "outputs": []
    },
    {
      "cell_type": "code",
      "metadata": {
        "id": "bOWSP_9QCiRw",
        "colab_type": "code",
        "outputId": "ad1b57e5-c42f-47d5-c522-18a7d2dc1410",
        "colab": {
          "base_uri": "https://localhost:8080/",
          "height": 34
        }
      },
      "source": [
        "my_phone [1] = True\n",
        "#change gets reflected\n",
        "my_dads_phone"
      ],
      "execution_count": 0,
      "outputs": [
        {
          "output_type": "execute_result",
          "data": {
            "text/plain": [
              "['iPhone 5s', True, 4]"
            ]
          },
          "metadata": {
            "tags": []
          },
          "execution_count": 43
        }
      ]
    },
    {
      "cell_type": "code",
      "metadata": {
        "id": "RxGHJD23Co8R",
        "colab_type": "code",
        "outputId": "bfbdb1b1-4d94-4392-9a93-90d68a0240e0",
        "colab": {
          "base_uri": "https://localhost:8080/",
          "height": 34
        }
      },
      "source": [
        "#For deep copying \n",
        "my_dads_phone = list(my_phone)\n",
        "my_phone[2]= 5.6\n",
        "#No reflection\n",
        "print(my_dads_phone)"
      ],
      "execution_count": 0,
      "outputs": [
        {
          "output_type": "stream",
          "text": [
            "['iPhone 5s', True, 4]\n"
          ],
          "name": "stdout"
        }
      ]
    },
    {
      "cell_type": "code",
      "metadata": {
        "id": "zqwxLVSADCr0",
        "colab_type": "code",
        "outputId": "065b2495-1cc4-4960-ac6c-24a705d1146d",
        "colab": {
          "base_uri": "https://localhost:8080/",
          "height": 34
        }
      },
      "source": [
        "#number of elements in a list\n",
        "len(my_phone)"
      ],
      "execution_count": 0,
      "outputs": [
        {
          "output_type": "execute_result",
          "data": {
            "text/plain": [
              "3"
            ]
          },
          "metadata": {
            "tags": []
          },
          "execution_count": 45
        }
      ]
    },
    {
      "cell_type": "code",
      "metadata": {
        "id": "6b6s8VHQDUeh",
        "colab_type": "code",
        "colab": {}
      },
      "source": [
        "my_phone.append('30')"
      ],
      "execution_count": 0,
      "outputs": []
    },
    {
      "cell_type": "code",
      "metadata": {
        "id": "uNgdkx2eDdWy",
        "colab_type": "code",
        "colab": {}
      },
      "source": [
        "iphone5s_some_prefs = ['single_sim' , 35000]\n"
      ],
      "execution_count": 0,
      "outputs": []
    },
    {
      "cell_type": "code",
      "metadata": {
        "id": "YKWA_VxRDmtb",
        "colab_type": "code",
        "colab": {}
      },
      "source": [
        "my_phone = my_phone + iphone5s_some_prefs"
      ],
      "execution_count": 0,
      "outputs": []
    },
    {
      "cell_type": "code",
      "metadata": {
        "id": "vTkR7UpVDsoy",
        "colab_type": "code",
        "outputId": "6d4c3922-ec24-45e1-eed7-c530d77962dc",
        "colab": {
          "base_uri": "https://localhost:8080/",
          "height": 34
        }
      },
      "source": [
        "print (my_phone)"
      ],
      "execution_count": 0,
      "outputs": [
        {
          "output_type": "stream",
          "text": [
            "['iPhone 5s', True, 5.6, '30', 'single_sim', 35000]\n"
          ],
          "name": "stdout"
        }
      ]
    },
    {
      "cell_type": "code",
      "metadata": {
        "id": "ZmAQLFjBDvs5",
        "colab_type": "code",
        "outputId": "5e0d58b0-cb70-4fd0-ece6-c75af4cde561",
        "colab": {
          "base_uri": "https://localhost:8080/",
          "height": 121
        }
      },
      "source": [
        "for data in my_phone :\n",
        "  print (data)"
      ],
      "execution_count": 0,
      "outputs": [
        {
          "output_type": "stream",
          "text": [
            "iPhone 5s\n",
            "True\n",
            "5.6\n",
            "30\n",
            "single_sim\n",
            "35000\n"
          ],
          "name": "stdout"
        }
      ]
    },
    {
      "cell_type": "code",
      "metadata": {
        "id": "DolFdvECD1ie",
        "colab_type": "code",
        "outputId": "5f8483c5-5bf2-463d-a584-014abde19846",
        "colab": {
          "base_uri": "https://localhost:8080/",
          "height": 34
        }
      },
      "source": [
        "print(list(range(5)))"
      ],
      "execution_count": 0,
      "outputs": [
        {
          "output_type": "stream",
          "text": [
            "[0, 1, 2, 3, 4]\n"
          ],
          "name": "stdout"
        }
      ]
    },
    {
      "cell_type": "code",
      "metadata": {
        "id": "2ceRHUx2D8Z_",
        "colab_type": "code",
        "outputId": "29a17898-72d5-4d1b-ce23-63e6865fbe81",
        "colab": {
          "base_uri": "https://localhost:8080/",
          "height": 34
        }
      },
      "source": [
        "#Lists are map function\n",
        "a= list(range(5))\n",
        "print (a)"
      ],
      "execution_count": 0,
      "outputs": [
        {
          "output_type": "stream",
          "text": [
            "[0, 1, 2, 3, 4]\n"
          ],
          "name": "stdout"
        }
      ]
    },
    {
      "cell_type": "code",
      "metadata": {
        "id": "K1MJFJqzEDOW",
        "colab_type": "code",
        "colab": {}
      },
      "source": [
        "#Lambda Function\n",
        "#Take every element of a in x & map it to b after squaring\n",
        "b = list(map(lambda x: x**2, a))"
      ],
      "execution_count": 0,
      "outputs": []
    },
    {
      "cell_type": "code",
      "metadata": {
        "id": "tJo1-WExEJLg",
        "colab_type": "code",
        "outputId": "7e997020-870f-4362-f45e-67148172a901",
        "colab": {
          "base_uri": "https://localhost:8080/",
          "height": 34
        }
      },
      "source": [
        "print (b)"
      ],
      "execution_count": 0,
      "outputs": [
        {
          "output_type": "stream",
          "text": [
            "[0, 1, 4, 9, 16]\n"
          ],
          "name": "stdout"
        }
      ]
    },
    {
      "cell_type": "code",
      "metadata": {
        "id": "lV_oXxraEYsg",
        "colab_type": "code",
        "outputId": "b35ff82c-56a8-4629-88f5-76d1c1742a37",
        "colab": {
          "base_uri": "https://localhost:8080/",
          "height": 34
        }
      },
      "source": [
        "#Filter Operator\n",
        "#If the boolean expression is True, retain the value of b rest discard \n",
        "c = list(filter (lambda x : x % 2 == 0, b))\n",
        "#this funtion filters the even values in b\n",
        "print(c)"
      ],
      "execution_count": 0,
      "outputs": [
        {
          "output_type": "stream",
          "text": [
            "[0, 4, 16]\n"
          ],
          "name": "stdout"
        }
      ]
    },
    {
      "cell_type": "code",
      "metadata": {
        "id": "iAhbVpa9FDST",
        "colab_type": "code",
        "outputId": "e16fc62b-adb7-407d-c939-17c5ade43d6a",
        "colab": {
          "base_uri": "https://localhost:8080/",
          "height": 52
        }
      },
      "source": [
        "print(my_phone)\n",
        "type(my_phone)"
      ],
      "execution_count": 0,
      "outputs": [
        {
          "output_type": "stream",
          "text": [
            "['iPhone 5s', True, 5.6, '30', 'single_sim', 35000]\n"
          ],
          "name": "stdout"
        },
        {
          "output_type": "execute_result",
          "data": {
            "text/plain": [
              "list"
            ]
          },
          "metadata": {
            "tags": []
          },
          "execution_count": 62
        }
      ]
    },
    {
      "cell_type": "markdown",
      "metadata": {
        "id": "zZdKGxMGFu_z",
        "colab_type": "text"
      },
      "source": [
        "#Tuples"
      ]
    },
    {
      "cell_type": "code",
      "metadata": {
        "id": "4_E58jQAF5e-",
        "colab_type": "code",
        "outputId": "aeb770a0-3218-4efb-b738-31bfb42963f2",
        "colab": {
          "base_uri": "https://localhost:8080/",
          "height": 52
        }
      },
      "source": [
        "my_phone_tuple = ('iPhone 5s', False, 4.3)\n",
        "print (my_phone_tuple)\n",
        "type (my_phone_tuple)"
      ],
      "execution_count": 0,
      "outputs": [
        {
          "output_type": "stream",
          "text": [
            "('iPhone 5s', False, 4.3)\n"
          ],
          "name": "stdout"
        },
        {
          "output_type": "execute_result",
          "data": {
            "text/plain": [
              "tuple"
            ]
          },
          "metadata": {
            "tags": []
          },
          "execution_count": 63
        }
      ]
    },
    {
      "cell_type": "code",
      "metadata": {
        "id": "MD6kkiPvGLbm",
        "colab_type": "code",
        "outputId": "96bde1a1-8c5a-4095-9120-b82968095266",
        "colab": {
          "base_uri": "https://localhost:8080/",
          "height": 34
        }
      },
      "source": [
        "my_phone_tuple[0]"
      ],
      "execution_count": 0,
      "outputs": [
        {
          "output_type": "execute_result",
          "data": {
            "text/plain": [
              "'iPhone 5s'"
            ]
          },
          "metadata": {
            "tags": []
          },
          "execution_count": 64
        }
      ]
    },
    {
      "cell_type": "code",
      "metadata": {
        "id": "RT2e6z8AGTca",
        "colab_type": "code",
        "colab": {}
      },
      "source": [
        "#If you try to change it, it will show an error\n",
        "#tuples are immutable; items cannot be reassigned "
      ],
      "execution_count": 0,
      "outputs": []
    },
    {
      "cell_type": "markdown",
      "metadata": {
        "id": "p5U30NPlG5b0",
        "colab_type": "text"
      },
      "source": [
        "Why Tuple?"
      ]
    },
    {
      "cell_type": "code",
      "metadata": {
        "id": "mXF3XFKVGzjL",
        "colab_type": "code",
        "colab": {}
      },
      "source": [
        "import time"
      ],
      "execution_count": 0,
      "outputs": []
    },
    {
      "cell_type": "code",
      "metadata": {
        "id": "BIgNG9Q7HA0V",
        "colab_type": "code",
        "outputId": "032f0227-3153-4d6e-aa31-13a90e119a5d",
        "colab": {
          "base_uri": "https://localhost:8080/",
          "height": 34
        }
      },
      "source": [
        "tic = time.time()\n",
        "print(tic)"
      ],
      "execution_count": 0,
      "outputs": [
        {
          "output_type": "stream",
          "text": [
            "1585163591.2116334\n"
          ],
          "name": "stdout"
        }
      ]
    },
    {
      "cell_type": "code",
      "metadata": {
        "id": "hHCmNc1KHJo7",
        "colab_type": "code",
        "colab": {}
      },
      "source": [
        "time.time?"
      ],
      "execution_count": 0,
      "outputs": []
    },
    {
      "cell_type": "code",
      "metadata": {
        "id": "g1ftc7fmHWLS",
        "colab_type": "code",
        "outputId": "004a2d66-72ce-4a61-bb74-d06e8df13720",
        "colab": {
          "base_uri": "https://localhost:8080/",
          "height": 34
        }
      },
      "source": [
        "tic = time.time()\n",
        "#do something that takes time to be measured\n",
        "toc = time.time()\n",
        "print('elapsed time in seconds', toc - tic)"
      ],
      "execution_count": 0,
      "outputs": [
        {
          "output_type": "stream",
          "text": [
            "elapsed time in seconds 1.6927719116210938e-05\n"
          ],
          "name": "stdout"
        }
      ]
    },
    {
      "cell_type": "code",
      "metadata": {
        "id": "il0o0yteHtDV",
        "colab_type": "code",
        "outputId": "0d8c93be-7b8a-46ab-df01-69b7574f9950",
        "colab": {
          "base_uri": "https://localhost:8080/",
          "height": 237
        }
      },
      "source": [
        "my_list = list (range(1000000))\n",
        "tic = time.time()\n",
        "my_list_squared = lsit (map(lambda i : i**2, my_list))\n",
        "toc = time.time()\n",
        "print('Elapsed time in seconds', toc-tic)"
      ],
      "execution_count": 0,
      "outputs": [
        {
          "output_type": "error",
          "ename": "NameError",
          "evalue": "ignored",
          "traceback": [
            "\u001b[0;31m---------------------------------------------------------------------------\u001b[0m",
            "\u001b[0;31mNameError\u001b[0m                                 Traceback (most recent call last)",
            "\u001b[0;32m<ipython-input-73-6ef488dad316>\u001b[0m in \u001b[0;36m<module>\u001b[0;34m()\u001b[0m\n\u001b[1;32m      1\u001b[0m \u001b[0mmy_list\u001b[0m \u001b[0;34m=\u001b[0m \u001b[0mlist\u001b[0m \u001b[0;34m(\u001b[0m\u001b[0mrange\u001b[0m\u001b[0;34m(\u001b[0m\u001b[0;36m1000000\u001b[0m\u001b[0;34m)\u001b[0m\u001b[0;34m)\u001b[0m\u001b[0;34m\u001b[0m\u001b[0;34m\u001b[0m\u001b[0m\n\u001b[1;32m      2\u001b[0m \u001b[0mtic\u001b[0m \u001b[0;34m=\u001b[0m \u001b[0mtime\u001b[0m\u001b[0;34m.\u001b[0m\u001b[0mtime\u001b[0m\u001b[0;34m(\u001b[0m\u001b[0;34m)\u001b[0m\u001b[0;34m\u001b[0m\u001b[0;34m\u001b[0m\u001b[0m\n\u001b[0;32m----> 3\u001b[0;31m \u001b[0mmy_list_squared\u001b[0m \u001b[0;34m=\u001b[0m \u001b[0mlsit\u001b[0m \u001b[0;34m(\u001b[0m\u001b[0mmap\u001b[0m\u001b[0;34m(\u001b[0m\u001b[0;32mlambda\u001b[0m \u001b[0mi\u001b[0m \u001b[0;34m:\u001b[0m \u001b[0mi\u001b[0m\u001b[0;34m**\u001b[0m\u001b[0;36m2\u001b[0m\u001b[0;34m,\u001b[0m \u001b[0mmy_list\u001b[0m\u001b[0;34m)\u001b[0m\u001b[0;34m)\u001b[0m\u001b[0;34m\u001b[0m\u001b[0;34m\u001b[0m\u001b[0m\n\u001b[0m\u001b[1;32m      4\u001b[0m \u001b[0mtoc\u001b[0m \u001b[0;34m=\u001b[0m \u001b[0mtime\u001b[0m\u001b[0;34m.\u001b[0m\u001b[0mtime\u001b[0m\u001b[0;34m(\u001b[0m\u001b[0;34m)\u001b[0m\u001b[0;34m\u001b[0m\u001b[0;34m\u001b[0m\u001b[0m\n\u001b[1;32m      5\u001b[0m \u001b[0mprint\u001b[0m\u001b[0;34m(\u001b[0m\u001b[0;34m'Elapsed time in seconds'\u001b[0m\u001b[0;34m,\u001b[0m \u001b[0mtoc\u001b[0m\u001b[0;34m-\u001b[0m\u001b[0mtic\u001b[0m\u001b[0;34m)\u001b[0m\u001b[0;34m\u001b[0m\u001b[0;34m\u001b[0m\u001b[0m\n",
            "\u001b[0;31mNameError\u001b[0m: name 'lsit' is not defined"
          ]
        }
      ]
    },
    {
      "cell_type": "code",
      "metadata": {
        "id": "D0-s97NuIQI6",
        "colab_type": "code",
        "colab": {}
      },
      "source": [
        ""
      ],
      "execution_count": 0,
      "outputs": []
    }
  ]
}