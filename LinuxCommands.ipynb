{
  "nbformat": 4,
  "nbformat_minor": 0,
  "metadata": {
    "colab": {
      "name": "LinuxCommands.ipynb",
      "provenance": [],
      "toc_visible": true
    },
    "kernelspec": {
      "name": "python3",
      "display_name": "Python 3"
    }
  },
  "cells": [
    {
      "cell_type": "markdown",
      "metadata": {
        "id": "s2l4qe9txYA0",
        "colab_type": "text"
      },
      "source": [
        "# Section 1\n",
        "Simple Linux Commands\n"
      ]
    },
    {
      "cell_type": "code",
      "metadata": {
        "id": "R497qvG877J0",
        "colab_type": "code",
        "colab": {}
      },
      "source": [
        "#Display contents of the current File\n",
        "!ls"
      ],
      "execution_count": 0,
      "outputs": []
    },
    {
      "cell_type": "code",
      "metadata": {
        "id": "yPHHKmSpvUtn",
        "colab_type": "code",
        "colab": {}
      },
      "source": [
        "#Kind of the processor we are running on \n",
        "!cat /proc/cpuinfo"
      ],
      "execution_count": 0,
      "outputs": []
    },
    {
      "cell_type": "code",
      "metadata": {
        "id": "ZTwdI4SBvxRK",
        "colab_type": "code",
        "colab": {}
      },
      "source": [
        "#Amount of RAM\n",
        "!cat /proc/meminfo"
      ],
      "execution_count": 0,
      "outputs": []
    },
    {
      "cell_type": "markdown",
      "metadata": {
        "id": "qin_mzs5w8cK",
        "colab_type": "text"
      },
      "source": [
        "This is a text Cell, where I can write in **bold**\n",
        "I can also write in $\\LaTeX$\n"
      ]
    },
    {
      "cell_type": "markdown",
      "metadata": {
        "id": "52NipMhOyGSO",
        "colab_type": "text"
      },
      "source": [
        "#Section 2 \n",
        "Moving on to Python"
      ]
    },
    {
      "cell_type": "code",
      "metadata": {
        "id": "gOlB9BYByRr4",
        "colab_type": "code",
        "colab": {}
      },
      "source": [
        ""
      ],
      "execution_count": 0,
      "outputs": []
    }
  ]
}